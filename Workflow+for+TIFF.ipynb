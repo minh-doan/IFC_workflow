{
 "cells": [
  {
   "cell_type": "code",
   "execution_count": null,
   "metadata": {
    "collapsed": true
   },
   "outputs": [],
   "source": [
    "import skimage.io\n",
    "import numpy\n",
    "import tensorflow as tf\n",
    "import pandas\n",
    "import pickle\n",
    "import os\n",
    "import os.path\n",
    "import math\n",
    "from itertools import groupby"
   ]
  },
  {
   "cell_type": "code",
   "execution_count": null,
   "metadata": {
    "collapsed": true
   },
   "outputs": [],
   "source": [
    "# This function is to make sure all images stay at the same size:\n",
    "def __pad_or_crop(image, image_size):\n",
    "    bigger = max(image.shape[0], image.shape[1], image_size)\n",
    "\n",
    "    pad_x = float(bigger - image.shape[0])\n",
    "    pad_y = float(bigger - image.shape[1])\n",
    "\n",
    "    pad_width_x = (int(math.floor(pad_x / 2)), int(math.ceil(pad_x / 2)))\n",
    "    pad_width_y = (int(math.floor(pad_y / 2)), int(math.ceil(pad_y / 2)))\n",
    "    sample = image[int(image.shape[0]/2)-4:int(image.shape[0]/2)+4, :8]\n",
    "\n",
    "    std = numpy.std(sample)\n",
    "\n",
    "    mean = numpy.mean(sample)\n",
    "\n",
    "    def normal(vector, pad_width, iaxis, kwargs):\n",
    "        vector[:pad_width[0]] = numpy.random.normal(mean, std, vector[:pad_width[0]].shape)\n",
    "        vector[-pad_width[1]:] = numpy.random.normal(mean, std, vector[-pad_width[1]:].shape)\n",
    "        return vector\n",
    "\n",
    "    if (image_size > image.shape[0]) & (image_size > image.shape[1]):\n",
    "        return numpy.pad(image, (pad_width_x, pad_width_y), normal)\n",
    "    else:\n",
    "        if bigger > image.shape[1]:\n",
    "            temp_image = numpy.pad(image, (pad_width_y), normal)\n",
    "        else:\n",
    "            if bigger > image.shape[0]:\n",
    "                temp_image = numpy.pad(image, (pad_width_x), normal)\n",
    "            else:\n",
    "                temp_image = image\n",
    "        return temp_image[int((temp_image.shape[0] - image_size)/2):int((temp_image.shape[0] + image_size)/2),int((temp_image.shape[1] - image_size)/2):int((temp_image.shape[1] + image_size)/2)]"
   ]
  },
  {
   "cell_type": "code",
   "execution_count": null,
   "metadata": {
    "collapsed": true
   },
   "outputs": [],
   "source": [
    "#------- Labels of classes --------#\n",
    "classes = ['G1','S_phase','G2','Prophase','Metaphase','Anaphase','Telophase']\n",
    "\n",
    "#------- Specify here which channels to use-------#\n",
    "wanted_channel = ['Ch3','Ch4','Ch6']\n",
    "\n",
    "#------- Specify here the size of each image element -------#\n",
    "image_size = 40\n",
    "\n",
    "#------- Split data into training and validating set -------#\n",
    "split = 0.8\n",
    "\n",
    "#------- Parent input folder -------#\n",
    "path = '/home/minh-doan/Cell_cycle/Step2_input_single_tifs'"
   ]
  },

 ],
 "metadata": {
  "kernelspec": {
   "display_name": "Python 3",
   "language": "python",
   "name": "python3"
  },
  "language_info": {
   "codemirror_mode": {
    "name": "ipython",
    "version": 3
   },
   "file_extension": ".py",
   "mimetype": "text/x-python",
   "name": "python",
   "nbconvert_exporter": "python",
   "pygments_lexer": "ipython3",
   "version": "3.5.2"
  }
 },
 "nbformat": 4,
 "nbformat_minor": 2
}
